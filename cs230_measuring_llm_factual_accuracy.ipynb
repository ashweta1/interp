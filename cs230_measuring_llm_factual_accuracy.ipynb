{
  "nbformat": 4,
  "nbformat_minor": 0,
  "metadata": {
    "colab": {
      "provenance": [],
      "gpuType": "T4",
      "include_colab_link": true
    },
    "kernelspec": {
      "name": "python3",
      "display_name": "Python 3"
    },
    "language_info": {
      "name": "python"
    },
    "accelerator": "GPU",
    "widgets": {
      "application/vnd.jupyter.widget-state+json": {
        "ca9e25fda1ef434484e876ee5105413c": {
          "model_module": "@jupyter-widgets/controls",
          "model_name": "HBoxModel",
          "model_module_version": "1.5.0",
          "state": {
            "_dom_classes": [],
            "_model_module": "@jupyter-widgets/controls",
            "_model_module_version": "1.5.0",
            "_model_name": "HBoxModel",
            "_view_count": null,
            "_view_module": "@jupyter-widgets/controls",
            "_view_module_version": "1.5.0",
            "_view_name": "HBoxView",
            "box_style": "",
            "children": [
              "IPY_MODEL_e88ab56500874ad7a7f2440a7f7f35c2",
              "IPY_MODEL_866d53f955bf4677aa731ca20490528b",
              "IPY_MODEL_febcc632684f4d0596e49bf80a03f1dd"
            ],
            "layout": "IPY_MODEL_c7caa79c88ee439183c7346e533897c1"
          }
        },
        "e88ab56500874ad7a7f2440a7f7f35c2": {
          "model_module": "@jupyter-widgets/controls",
          "model_name": "HTMLModel",
          "model_module_version": "1.5.0",
          "state": {
            "_dom_classes": [],
            "_model_module": "@jupyter-widgets/controls",
            "_model_module_version": "1.5.0",
            "_model_name": "HTMLModel",
            "_view_count": null,
            "_view_module": "@jupyter-widgets/controls",
            "_view_module_version": "1.5.0",
            "_view_name": "HTMLView",
            "description": "",
            "description_tooltip": null,
            "layout": "IPY_MODEL_70fd526ec68b4b94aaa8aae52742b7af",
            "placeholder": "​",
            "style": "IPY_MODEL_4bc7c9eba7d4420d902dfc828956b175",
            "value": "100%"
          }
        },
        "866d53f955bf4677aa731ca20490528b": {
          "model_module": "@jupyter-widgets/controls",
          "model_name": "FloatProgressModel",
          "model_module_version": "1.5.0",
          "state": {
            "_dom_classes": [],
            "_model_module": "@jupyter-widgets/controls",
            "_model_module_version": "1.5.0",
            "_model_name": "FloatProgressModel",
            "_view_count": null,
            "_view_module": "@jupyter-widgets/controls",
            "_view_module_version": "1.5.0",
            "_view_name": "ProgressView",
            "bar_style": "success",
            "description": "",
            "description_tooltip": null,
            "layout": "IPY_MODEL_da317aa9fa6f4753872978ba46546762",
            "max": 1,
            "min": 0,
            "orientation": "horizontal",
            "style": "IPY_MODEL_8ae6bdf18bb246d8935636d6a6db29b7",
            "value": 1
          }
        },
        "febcc632684f4d0596e49bf80a03f1dd": {
          "model_module": "@jupyter-widgets/controls",
          "model_name": "HTMLModel",
          "model_module_version": "1.5.0",
          "state": {
            "_dom_classes": [],
            "_model_module": "@jupyter-widgets/controls",
            "_model_module_version": "1.5.0",
            "_model_name": "HTMLModel",
            "_view_count": null,
            "_view_module": "@jupyter-widgets/controls",
            "_view_module_version": "1.5.0",
            "_view_name": "HTMLView",
            "description": "",
            "description_tooltip": null,
            "layout": "IPY_MODEL_8ecd79475a334319af8872eb52c4f5e3",
            "placeholder": "​",
            "style": "IPY_MODEL_d76a2770f5d64a088c4e67c9902510b0",
            "value": " 1/1 [00:00&lt;00:00, 17.67it/s]"
          }
        },
        "c7caa79c88ee439183c7346e533897c1": {
          "model_module": "@jupyter-widgets/base",
          "model_name": "LayoutModel",
          "model_module_version": "1.2.0",
          "state": {
            "_model_module": "@jupyter-widgets/base",
            "_model_module_version": "1.2.0",
            "_model_name": "LayoutModel",
            "_view_count": null,
            "_view_module": "@jupyter-widgets/base",
            "_view_module_version": "1.2.0",
            "_view_name": "LayoutView",
            "align_content": null,
            "align_items": null,
            "align_self": null,
            "border": null,
            "bottom": null,
            "display": null,
            "flex": null,
            "flex_flow": null,
            "grid_area": null,
            "grid_auto_columns": null,
            "grid_auto_flow": null,
            "grid_auto_rows": null,
            "grid_column": null,
            "grid_gap": null,
            "grid_row": null,
            "grid_template_areas": null,
            "grid_template_columns": null,
            "grid_template_rows": null,
            "height": null,
            "justify_content": null,
            "justify_items": null,
            "left": null,
            "margin": null,
            "max_height": null,
            "max_width": null,
            "min_height": null,
            "min_width": null,
            "object_fit": null,
            "object_position": null,
            "order": null,
            "overflow": null,
            "overflow_x": null,
            "overflow_y": null,
            "padding": null,
            "right": null,
            "top": null,
            "visibility": null,
            "width": null
          }
        },
        "70fd526ec68b4b94aaa8aae52742b7af": {
          "model_module": "@jupyter-widgets/base",
          "model_name": "LayoutModel",
          "model_module_version": "1.2.0",
          "state": {
            "_model_module": "@jupyter-widgets/base",
            "_model_module_version": "1.2.0",
            "_model_name": "LayoutModel",
            "_view_count": null,
            "_view_module": "@jupyter-widgets/base",
            "_view_module_version": "1.2.0",
            "_view_name": "LayoutView",
            "align_content": null,
            "align_items": null,
            "align_self": null,
            "border": null,
            "bottom": null,
            "display": null,
            "flex": null,
            "flex_flow": null,
            "grid_area": null,
            "grid_auto_columns": null,
            "grid_auto_flow": null,
            "grid_auto_rows": null,
            "grid_column": null,
            "grid_gap": null,
            "grid_row": null,
            "grid_template_areas": null,
            "grid_template_columns": null,
            "grid_template_rows": null,
            "height": null,
            "justify_content": null,
            "justify_items": null,
            "left": null,
            "margin": null,
            "max_height": null,
            "max_width": null,
            "min_height": null,
            "min_width": null,
            "object_fit": null,
            "object_position": null,
            "order": null,
            "overflow": null,
            "overflow_x": null,
            "overflow_y": null,
            "padding": null,
            "right": null,
            "top": null,
            "visibility": null,
            "width": null
          }
        },
        "4bc7c9eba7d4420d902dfc828956b175": {
          "model_module": "@jupyter-widgets/controls",
          "model_name": "DescriptionStyleModel",
          "model_module_version": "1.5.0",
          "state": {
            "_model_module": "@jupyter-widgets/controls",
            "_model_module_version": "1.5.0",
            "_model_name": "DescriptionStyleModel",
            "_view_count": null,
            "_view_module": "@jupyter-widgets/base",
            "_view_module_version": "1.2.0",
            "_view_name": "StyleView",
            "description_width": ""
          }
        },
        "da317aa9fa6f4753872978ba46546762": {
          "model_module": "@jupyter-widgets/base",
          "model_name": "LayoutModel",
          "model_module_version": "1.2.0",
          "state": {
            "_model_module": "@jupyter-widgets/base",
            "_model_module_version": "1.2.0",
            "_model_name": "LayoutModel",
            "_view_count": null,
            "_view_module": "@jupyter-widgets/base",
            "_view_module_version": "1.2.0",
            "_view_name": "LayoutView",
            "align_content": null,
            "align_items": null,
            "align_self": null,
            "border": null,
            "bottom": null,
            "display": null,
            "flex": null,
            "flex_flow": null,
            "grid_area": null,
            "grid_auto_columns": null,
            "grid_auto_flow": null,
            "grid_auto_rows": null,
            "grid_column": null,
            "grid_gap": null,
            "grid_row": null,
            "grid_template_areas": null,
            "grid_template_columns": null,
            "grid_template_rows": null,
            "height": null,
            "justify_content": null,
            "justify_items": null,
            "left": null,
            "margin": null,
            "max_height": null,
            "max_width": null,
            "min_height": null,
            "min_width": null,
            "object_fit": null,
            "object_position": null,
            "order": null,
            "overflow": null,
            "overflow_x": null,
            "overflow_y": null,
            "padding": null,
            "right": null,
            "top": null,
            "visibility": null,
            "width": null
          }
        },
        "8ae6bdf18bb246d8935636d6a6db29b7": {
          "model_module": "@jupyter-widgets/controls",
          "model_name": "ProgressStyleModel",
          "model_module_version": "1.5.0",
          "state": {
            "_model_module": "@jupyter-widgets/controls",
            "_model_module_version": "1.5.0",
            "_model_name": "ProgressStyleModel",
            "_view_count": null,
            "_view_module": "@jupyter-widgets/base",
            "_view_module_version": "1.2.0",
            "_view_name": "StyleView",
            "bar_color": null,
            "description_width": ""
          }
        },
        "8ecd79475a334319af8872eb52c4f5e3": {
          "model_module": "@jupyter-widgets/base",
          "model_name": "LayoutModel",
          "model_module_version": "1.2.0",
          "state": {
            "_model_module": "@jupyter-widgets/base",
            "_model_module_version": "1.2.0",
            "_model_name": "LayoutModel",
            "_view_count": null,
            "_view_module": "@jupyter-widgets/base",
            "_view_module_version": "1.2.0",
            "_view_name": "LayoutView",
            "align_content": null,
            "align_items": null,
            "align_self": null,
            "border": null,
            "bottom": null,
            "display": null,
            "flex": null,
            "flex_flow": null,
            "grid_area": null,
            "grid_auto_columns": null,
            "grid_auto_flow": null,
            "grid_auto_rows": null,
            "grid_column": null,
            "grid_gap": null,
            "grid_row": null,
            "grid_template_areas": null,
            "grid_template_columns": null,
            "grid_template_rows": null,
            "height": null,
            "justify_content": null,
            "justify_items": null,
            "left": null,
            "margin": null,
            "max_height": null,
            "max_width": null,
            "min_height": null,
            "min_width": null,
            "object_fit": null,
            "object_position": null,
            "order": null,
            "overflow": null,
            "overflow_x": null,
            "overflow_y": null,
            "padding": null,
            "right": null,
            "top": null,
            "visibility": null,
            "width": null
          }
        },
        "d76a2770f5d64a088c4e67c9902510b0": {
          "model_module": "@jupyter-widgets/controls",
          "model_name": "DescriptionStyleModel",
          "model_module_version": "1.5.0",
          "state": {
            "_model_module": "@jupyter-widgets/controls",
            "_model_module_version": "1.5.0",
            "_model_name": "DescriptionStyleModel",
            "_view_count": null,
            "_view_module": "@jupyter-widgets/base",
            "_view_module_version": "1.2.0",
            "_view_name": "StyleView",
            "description_width": ""
          }
        }
      }
    }
  },
  "cells": [
    {
      "cell_type": "markdown",
      "metadata": {
        "id": "view-in-github",
        "colab_type": "text"
      },
      "source": [
        "<a href=\"https://colab.research.google.com/github/ashweta1/interp/blob/main/cs230_measuring_llm_factual_accuracy.ipynb\" target=\"_parent\"><img src=\"https://colab.research.google.com/assets/colab-badge.svg\" alt=\"Open In Colab\"/></a>"
      ]
    },
    {
      "cell_type": "markdown",
      "source": [
        "\n",
        "# Measuring Factual accuracy in LLMs using a known facts dataset\n",
        "\n",
        "**Dataset** from https://github.com/kmeng01/rome/tree/main/dsets\n",
        "\n",
        "**Model**: GPT2 (small)\n",
        "\n",
        "**Metrics**:\n",
        "*   **Exact match accuracy**: how often the model correctly predicts the next factual token given a prompt, greedily only considering the highest probability token.\n",
        "*   **Probabalistic weighted accuracy**: Also consider non-top tokens weighing accuracy down acc to relative probabilty to top token.\n",
        "*   **BLEU score**: n-gram precision and helps evaluate fluency and overlap between predicted and actual tokens.\n",
        "*   **Perplexity** (expoentiated CE loss for predicting prompt+prediction - lower is better)"
      ],
      "metadata": {
        "id": "spWUrVhMhdmN"
      }
    },
    {
      "cell_type": "code",
      "source": [
        "%%bash\n",
        "!(stat -t /usr/local/lib/*/dist-packages/google/colab > /dev/null 2>&1) && exit\n",
        "\n",
        "cd /content && rm -rf /content/home\n",
        "git clone https://github.com/kmeng01/rome home > install.log 2>&1\n",
        "pip install -r /content/home/scripts/colab_reqs/rome.txt >> install.log 2>&1\n",
        "pip install --upgrade google-cloud-storage >> install.log 2>&1\n",
        "pip install datasets >> install.log 2>&1\n",
        "pip install transformers >> install.log 2>&1\n",
        "pip install evaluate >> install.log 2>&1\n",
        "pip install nltk >> install.log 2>&1"
      ],
      "metadata": {
        "id": "U9gcN6mZlWCf"
      },
      "execution_count": 15,
      "outputs": []
    },
    {
      "cell_type": "code",
      "source": [
        "IS_COLAB = True\n",
        "try:\n",
        "    import google.colab, torch, os\n",
        "\n",
        "    IS_COLAB = True\n",
        "    if not torch.cuda.is_available():\n",
        "        raise Exception(\"Change runtime type to include a GPU.\")\n",
        "    os.chdir(\"/content/home\")\n",
        "    torch.set_grad_enabled(False)\n",
        "except ModuleNotFoundError as _:\n",
        "    pass"
      ],
      "metadata": {
        "id": "epKDRxmbYSX5",
        "colab": {
          "base_uri": "https://localhost:8080/"
        },
        "outputId": "df98054b-8244-435f-f5fd-c5c0c805f016"
      },
      "execution_count": 16,
      "outputs": [
        {
          "output_type": "stream",
          "name": "stderr",
          "text": [
            "[autoreload of util failed: Traceback (most recent call last):\n",
            "  File \"/usr/local/lib/python3.10/dist-packages/IPython/extensions/autoreload.py\", line 245, in check\n",
            "    superreload(m, reload, self.old_objects)\n",
            "  File \"/usr/local/lib/python3.10/dist-packages/IPython/extensions/autoreload.py\", line 394, in superreload\n",
            "    module = reload(module)\n",
            "  File \"/usr/lib/python3.10/imp.py\", line 315, in reload\n",
            "    return importlib.reload(module)\n",
            "  File \"/usr/lib/python3.10/importlib/__init__.py\", line 168, in reload\n",
            "    raise ModuleNotFoundError(f\"spec not found for the module {name!r}\", name=name)\n",
            "ModuleNotFoundError: spec not found for the module 'util'\n",
            "]\n",
            "[autoreload of util.globals failed: Traceback (most recent call last):\n",
            "  File \"/usr/local/lib/python3.10/dist-packages/IPython/extensions/autoreload.py\", line 245, in check\n",
            "    superreload(m, reload, self.old_objects)\n",
            "  File \"/usr/local/lib/python3.10/dist-packages/IPython/extensions/autoreload.py\", line 394, in superreload\n",
            "    module = reload(module)\n",
            "  File \"/usr/lib/python3.10/imp.py\", line 315, in reload\n",
            "    return importlib.reload(module)\n",
            "  File \"/usr/lib/python3.10/importlib/__init__.py\", line 169, in reload\n",
            "    _bootstrap._exec(spec, module)\n",
            "  File \"<frozen importlib._bootstrap>\", line 619, in _exec\n",
            "  File \"<frozen importlib._bootstrap_external>\", line 883, in exec_module\n",
            "  File \"<frozen importlib._bootstrap>\", line 241, in _call_with_frames_removed\n",
            "  File \"/content/home/util/globals.py\", line 5, in <module>\n",
            "    with open(\"globals.yml\", \"r\") as stream:\n",
            "FileNotFoundError: [Errno 2] No such file or directory: 'globals.yml'\n",
            "]\n",
            "[autoreload of dsets failed: Traceback (most recent call last):\n",
            "  File \"/usr/local/lib/python3.10/dist-packages/IPython/extensions/autoreload.py\", line 245, in check\n",
            "    superreload(m, reload, self.old_objects)\n",
            "  File \"/usr/local/lib/python3.10/dist-packages/IPython/extensions/autoreload.py\", line 394, in superreload\n",
            "    module = reload(module)\n",
            "  File \"/usr/lib/python3.10/imp.py\", line 315, in reload\n",
            "    return importlib.reload(module)\n",
            "  File \"/usr/lib/python3.10/importlib/__init__.py\", line 168, in reload\n",
            "    raise ModuleNotFoundError(f\"spec not found for the module {name!r}\", name=name)\n",
            "ModuleNotFoundError: spec not found for the module 'dsets'\n",
            "]\n"
          ]
        }
      ]
    },
    {
      "cell_type": "code",
      "source": [
        "%load_ext autoreload\n",
        "%autoreload 2"
      ],
      "metadata": {
        "colab": {
          "base_uri": "https://localhost:8080/"
        },
        "id": "ifpPuvlyltmI",
        "outputId": "5fee8baf-cfa4-4bbb-830d-b2d516345eab"
      },
      "execution_count": 17,
      "outputs": [
        {
          "output_type": "stream",
          "name": "stdout",
          "text": [
            "The autoreload extension is already loaded. To reload it, use:\n",
            "  %reload_ext autoreload\n"
          ]
        }
      ]
    },
    {
      "cell_type": "code",
      "source": [
        "# Set parameters\n",
        "\n",
        "MODEL_NAME = \"gpt2\"\n",
        "# MODEL_NAME = \"gpt2-medium\"\n",
        "# MODEL_NAME = \"gpt2-large\"\n",
        "# MODEL_NAME = \"gpt2-xl\"\n",
        "\n",
        "# NUM_BEAMS = 1\n",
        "NUM_BEAMS = 3\n",
        "\n",
        "# CONTEXT = \"\"\n",
        "CONTEXT = \"Answer as a precise fact. \"\n",
        "# CONTEXT = \"Complete this sentence precisely based on facts. \""
      ],
      "metadata": {
        "id": "uudsnxTavYv_"
      },
      "execution_count": 18,
      "outputs": []
    },
    {
      "cell_type": "code",
      "source": [
        "# Make inputs from prompt and predict next token probabilities.\n",
        "import torch\n",
        "import matplotlib.pyplot as plt\n",
        "import matplotlib as mt\n",
        "\n",
        "# this function is from https://github.com/kmeng01/rome/blob/main/experiments/causal_trace.py\n",
        "def make_inputs(tokenizer, prompts, device=\"cuda\"):\n",
        "    token_lists = [tokenizer.encode(p) for p in prompts]\n",
        "    maxlen = max(len(t) for t in token_lists)\n",
        "    if \"[PAD]\" in tokenizer.all_special_tokens:\n",
        "        pad_id = tokenizer.all_special_ids[tokenizer.all_special_tokens.index(\"[PAD]\")]\n",
        "    else:\n",
        "        pad_id = 0\n",
        "    input_ids = [[pad_id] * (maxlen - len(t)) + t for t in token_lists]\n",
        "    # position_ids = [[0] * (maxlen - len(t)) + list(range(len(t))) for t in token_lists]\n",
        "    attention_mask = [[0] * (maxlen - len(t)) + [1] * len(t) for t in token_lists]\n",
        "    return dict(\n",
        "        input_ids=torch.tensor(input_ids).to(device),\n",
        "        #    position_ids=torch.tensor(position_ids).to(device),\n",
        "        attention_mask=torch.tensor(attention_mask).to(device),\n",
        "    )\n",
        "\n",
        "def predict_probs_from_prompt(model, tokenizer, prompt):\n",
        "    inp = make_inputs(tokenizer, [prompt])\n",
        "    out = model(**inp)[\"logits\"]\n",
        "    probs = torch.softmax(out[:, -1], dim=1)\n",
        "    # print(probs.shape)\n",
        "\n",
        "    # get top 10 probabilities and predictions\n",
        "    topk_probs, topk_indices = torch.topk(probs, k=10, dim=1)\n",
        "    # print(topk_probs, topk_probs.shape)\n",
        "    # print(topk_indices, topk_indices.shape)\n",
        "\n",
        "    # create a list with tuples of token to probability\n",
        "    result = [(tokenizer.decode(int(c)),float(p)) for p,c in zip(topk_probs[0], topk_indices[0])]\n",
        "    return result\n",
        "\n",
        "def generate_text(model, tokenizer, prompt, max_length=50, device=\"cuda\"):\n",
        "    input_ids = tokenizer.encode(prompt, return_tensors='pt')\n",
        "\n",
        "    outputs = model.generate(input_ids.to(device),\n",
        "                             max_length=50,\n",
        "                             do_sample=True,\n",
        "                             num_beams=NUM_BEAMS,\n",
        "                             no_repeat_ngram_size=2,\n",
        "                             early_stopping=True,\n",
        "                             temperature=0.01,\n",
        "                             eos_token_id=tokenizer.encode(\".\")[0])\n",
        "\n",
        "    # Decode the generated sequence back to text\n",
        "    generated_text = tokenizer.decode(outputs[0], skip_special_tokens=True)\n",
        "\n",
        "    return generated_text\n",
        "\n",
        "\n",
        "def plot_word_probabilities(result):\n",
        "    # Unpack the words and their probabilities\n",
        "    words = [item[0] for item in result]\n",
        "    probabilities = [item[1] for item in result]\n",
        "\n",
        "    # Plotting\n",
        "    plt.figure(figsize=(6, 3))\n",
        "    plt.bar(words, probabilities, color='blue')\n",
        "    plt.xlabel('Words')\n",
        "    plt.ylabel('Probability')\n",
        "    plt.title('Top 10 Word Probabilities')\n",
        "    plt.xticks(rotation=45, ha='right')\n",
        "    plt.tight_layout()  # Adjust layout to avoid clipping\n",
        "    plt.show()"
      ],
      "metadata": {
        "id": "26j6f3IhXLvP"
      },
      "execution_count": 19,
      "outputs": []
    },
    {
      "cell_type": "code",
      "source": [
        "import evaluate  # https://huggingface.co/spaces/evaluate-metric/perplexity\n",
        "import nltk\n",
        "from nltk.translate.bleu_score import sentence_bleu, SmoothingFunction\n",
        "\n",
        "def prepare_prompt(prompt, prepend_context=\"\"):\n",
        "    return prepend_context + prompt\n",
        "\n",
        "# Function to remove only the initial overlapping prompt tokens\n",
        "def remove_initial_overlap(tokens, prompt_tokens):\n",
        "    i = 0\n",
        "    while i < len(tokens) and i < len(prompt_tokens) and tokens[i] == prompt_tokens[i]:\n",
        "        i += 1\n",
        "    return tokens[i:]  # Return the tokens after the initial overlap\n",
        "\n",
        "def avg_prediction_accuracy(model, tokenizer, known_facts, context=CONTEXT, debug=False):\n",
        "    correct = 0\n",
        "    total = 0\n",
        "    if debug:\n",
        "      use_facts = known_facts[:5]\n",
        "    else:\n",
        "      use_facts = known_facts\n",
        "    for k in use_facts:\n",
        "        prompt = prepare_prompt(k[\"prompt\"], context)\n",
        "        expected_prediction = k[\"prediction\"].split()[0]\n",
        "        result = predict_probs_from_prompt(model, tokenizer, prompt)\n",
        "        if debug:\n",
        "          print(\"Prompt: \", prompt, \"expected prediction: \", expected_prediction, \"actual prediction: \", result[0][0])\n",
        "        if result[0][0].strip() == expected_prediction.strip():\n",
        "            correct += 1\n",
        "        total += 1\n",
        "    return correct / total\n",
        "\n",
        "def weighted_prediction_accuracy(model, tokenizer, known_facts, context=CONTEXT, debug=False):\n",
        "    correct = 0\n",
        "    total = 0\n",
        "    if debug:\n",
        "      use_facts = known_facts[:5]\n",
        "    else:\n",
        "      use_facts = known_facts\n",
        "    for k in use_facts:\n",
        "        prompt = prepare_prompt(k[\"prompt\"], context)\n",
        "        expected_prediction = k[\"prediction\"].split()[0]\n",
        "        if debug:\n",
        "          print(\"Prompt: \", prompt, \"expected prediction: \", expected_prediction)\n",
        "        result = predict_probs_from_prompt(model, tokenizer, prompt)\n",
        "        max_prob = result[0][1]\n",
        "        for r in result:\n",
        "          if r[0].strip() == expected_prediction.strip():\n",
        "            if r[1] < max_prob:\n",
        "              if debug:\n",
        "                print(f\"Lower prob matching prediction: {r[0]} with relative probability {r[1]/max_prob}\")\n",
        "            correct += r[1]/max_prob\n",
        "            break\n",
        "        total += 1\n",
        "    return correct / total\n",
        "\n",
        "def avg_bleu_score(model, tokenizer, known_facts, context=CONTEXT, debug=False):\n",
        "    sum_bleu = 0\n",
        "    total = 0\n",
        "    if debug:\n",
        "      use_facts = known_facts[:5]\n",
        "    else:\n",
        "      use_facts = known_facts\n",
        "    smoothing = SmoothingFunction()\n",
        "    ngram_weights = [0.5, 0.5, 0, 0]  # This gives equal weight to unigrams and bigrams\n",
        "    for k in use_facts:\n",
        "        prompt = prepare_prompt(k[\"prompt\"], context)\n",
        "        expected_prediction = k[\"prediction\"]\n",
        "        if debug:\n",
        "          print(\"Prompt: \", prompt, \"expected prediction: \", expected_prediction)\n",
        "        generated_text = generate_text(model, tokenizer, prompt)\n",
        "        reference_tokens = prompt.split() + expected_prediction.split() # Ground truth sentence as list of tokens\n",
        "        generated_tokens = generated_text.split()  # Model-generated text as list of tokens\n",
        "        if debug:\n",
        "          print(\"Reference tokens: \", reference_tokens)\n",
        "          print(\"Generated tokens: \", generated_tokens)\n",
        "\n",
        "        # subtract the overlapping prompt tokens from from reference_tokens and generated tokens.\n",
        "        prompt_tokens = prompt.split()\n",
        "        reference_tokens = remove_initial_overlap(reference_tokens, prompt_tokens)\n",
        "        generated_tokens = remove_initial_overlap(generated_tokens, prompt_tokens)\n",
        "        if debug:\n",
        "          print(\"Reference tokens after removing prompt: \", reference_tokens)\n",
        "          print(\"Generated tokens after removing prompt: \", generated_tokens)\n",
        "\n",
        "        # Calculate BLEU score\n",
        "        bleu = sentence_bleu([reference_tokens],\n",
        "                             generated_tokens,\n",
        "                             weights=ngram_weights,\n",
        "                             smoothing_function=smoothing.method1)\n",
        "        if debug:\n",
        "          print(f\"BLEU Score for prompt: '{prompt}'\\n\"\n",
        "                f\"Prediction: '{reference_tokens}'\\n\"\n",
        "                f\"Generated: '{generated_tokens}'\\n\"\n",
        "                f\"BLEU score: {bleu:.4f}\\n\")\n",
        "        sum_bleu += bleu\n",
        "        total += 1\n",
        "    return sum_bleu / total\n",
        "\n",
        "def avg_perplexity(model, tokenizer, known_facts, context=CONTEXT, debug=False):\n",
        "    loss = 0\n",
        "    total = 0\n",
        "    if debug:\n",
        "      use_facts = known_facts[:5]\n",
        "    else:\n",
        "      use_facts = known_facts\n",
        "    for k in use_facts:\n",
        "        prompt = prepare_prompt(k[\"prompt\"], context)\n",
        "        prediction = k[\"prediction\"]\n",
        "        if debug:\n",
        "          print(\"Prompt with prediction: \", prompt + prediction)\n",
        "\n",
        "        # inputs = make_inputs(tokenizer, [prompt + prediction])\n",
        "        inputs = tokenizer(prompt + prediction, return_tensors=\"pt\").to(model.device)\n",
        "\n",
        "        # Create a labels tensor where the prompt part is masked (set to -100)\n",
        "        labels = inputs[\"input_ids\"].clone()  # Clone the input_ids to make labels\n",
        "        prompt_tokens = tokenizer.encode(prompt, add_special_tokens=False)\n",
        "        prompt_length = len(prompt_tokens)\n",
        "        labels[:, :prompt_length] = -100  # Mask the prompt tokens (set to -100)\n",
        "        if debug:\n",
        "          print(\"Prompt tokens: \", prompt_tokens)\n",
        "          print(\"Labels: \", labels)\n",
        "\n",
        "        with torch.no_grad():\n",
        "          out = model(**inputs, labels=labels)\n",
        "          if debug:\n",
        "            print(f\"Loss: {out['loss']}\")\n",
        "            print(f\"Perplexity: {torch.exp(out['loss'])}\")\n",
        "          loss += out[\"loss\"].item()\n",
        "        total += 1\n",
        "    avg_loss = loss / total\n",
        "    avg_perplexity = torch.exp(torch.tensor(avg_loss))\n",
        "\n",
        "\n",
        "    if debug:\n",
        "      print(f\"Avg loss: {avg_loss}\")\n",
        "      print(f\"Avg Perplexity: {avg_perplexity}\")\n",
        "    return avg_perplexity\n",
        "\n",
        "def hf_perplexity(model, tokenizer, known_facts, context=CONTEXT, debug=False):\n",
        "  perplexity = evaluate.load(\"perplexity\", module_type=\"metric\")\n",
        "  input_texts = []\n",
        "  if debug:\n",
        "      use_facts = known_facts[:5]\n",
        "  else:\n",
        "      use_facts = known_facts\n",
        "  for k in use_facts:\n",
        "    prompt = prepare_prompt(k[\"prompt\"], context)\n",
        "    prediction = k[\"prediction\"]\n",
        "    input_texts.append(prompt + prediction)\n",
        "  results = perplexity.compute(model_id='gpt2',\n",
        "                               add_start_token=False,\n",
        "                               predictions=input_texts)\n",
        "  return results[\"mean_perplexity\"]"
      ],
      "metadata": {
        "id": "bcdKyvOWqCyR"
      },
      "execution_count": 20,
      "outputs": []
    },
    {
      "cell_type": "code",
      "execution_count": 21,
      "metadata": {
        "id": "atrf8j8bW4Mf"
      },
      "outputs": [],
      "source": [
        "## Get the model\n",
        "from transformers import GPT2Tokenizer, GPT2LMHeadModel\n",
        "\n",
        "def get_gpt2_model(model_name):\n",
        "    tokenizer = GPT2Tokenizer.from_pretrained(model_name)\n",
        "    model = GPT2LMHeadModel.from_pretrained(model_name, pad_token_id=tokenizer.eos_token_id).to('cuda')\n",
        "    return model, tokenizer\n",
        "\n",
        "model, tokenizer = get_gpt2_model(MODEL_NAME)"
      ]
    },
    {
      "cell_type": "code",
      "source": [
        "print(generate_text(model, tokenizer, \"Michael Jordan plays the sport of\"))\n",
        "print(generate_text(model, tokenizer, \"David Beckham plays the sport of soccer. Michael Jordan plays the sport of\"))"
      ],
      "metadata": {
        "colab": {
          "base_uri": "https://localhost:8080/"
        },
        "id": "gafNL-WyPu2F",
        "outputId": "9285fe95-088f-4124-beb7-fe117200a66c"
      },
      "execution_count": 22,
      "outputs": [
        {
          "output_type": "stream",
          "name": "stdout",
          "text": [
            "Michael Jordan plays the sport of basketball, but he's not a basketball player.\n",
            "David Beckham plays the sport of soccer. Michael Jordan plays the sport of basketball.\n"
          ]
        }
      ]
    },
    {
      "cell_type": "code",
      "source": [
        "result = predict_probs_from_prompt(model, tokenizer, \"Michael Jordan plays the sport of\")  # basketball\n",
        "print(result)\n",
        "plot_word_probabilities(result)\n",
        "result = predict_probs_from_prompt(model, tokenizer, \"David Beckham plays the sport of soccer. Michael Jordan plays the sport of\")  # basketball\n",
        "print(result)\n",
        "plot_word_probabilities(result)\n",
        "result = predict_probs_from_prompt(model, tokenizer, \"The first prominent paper on transformers and attention was 'Attention is all you\") # need\n",
        "plot_word_probabilities(result)\n",
        "result = predict_probs_from_prompt(model, tokenizer, \"The url to 'Attention is all you need' paper is http://https://arxiv.org/abs/\") # 1706.03762\n",
        "plot_word_probabilities(result)"
      ],
      "metadata": {
        "colab": {
          "base_uri": "https://localhost:8080/",
          "height": 1000
        },
        "id": "9HfjoF9xX9qd",
        "outputId": "4e51f4cb-e28a-4c8c-96fd-508664c3b5ed"
      },
      "execution_count": 23,
      "outputs": [
        {
          "output_type": "stream",
          "name": "stdout",
          "text": [
            "[(' basketball', 0.8831748962402344), (' football', 0.015441876836121082), (' golf', 0.013745664618909359), (' hoops', 0.009201722219586372), (' Basketball', 0.005511519033461809), (' baseball', 0.00473727285861969), (' soccer', 0.004484286531805992), (' hockey', 0.003703803289681673), (' the', 0.0032689939253032207), (' tennis', 0.0025970989372581244)]\n"
          ]
        },
        {
          "output_type": "display_data",
          "data": {
            "text/plain": [
              "<Figure size 600x300 with 1 Axes>"
            ],
            "image/png": "[encoded data removed]"
          },
          "metadata": {}
        },
        {
          "output_type": "stream",
          "name": "stdout",
          "text": [
            "[(' basketball', 0.9309781789779663), (' golf', 0.030908379703760147), (' baseball', 0.009610244072973728), (' football', 0.007173153106123209), (' hoops', 0.004447477869689465), (' tennis', 0.0042616091668605804), (' soccer', 0.0013974071480333805), (' hockey', 0.0006243633106350899), (' Basketball', 0.00046644004760310054), (' horse', 0.00044291222002357244)]\n"
          ]
        },
        {
          "output_type": "display_data",
          "data": {
            "text/plain": [
              "<Figure size 600x300 with 1 Axes>"
            ],
            "image/png": "[encoded data removed]"
          },
          "metadata": {}
        },
        {
          "output_type": "display_data",
          "data": {
            "text/plain": [
              "<Figure size 600x300 with 1 Axes>"
            ],
            "image/png": "[encoded data removed]"
          },
          "metadata": {}
        },
        {
          "output_type": "display_data",
          "data": {
            "text/plain": [
              "<Figure size 600x300 with 1 Axes>"
            ],
            "image/png": "[encoded data removed]"
          },
          "metadata": {}
        }
      ]
    },
    {
      "cell_type": "code",
      "source": [
        "## Measure the factual accuracy on a dataset\n",
        "# Using ROME's facts dataset\n",
        "import os, re, json\n",
        "!ls /content/home\n",
        "from util.globals import DATA_DIR\n",
        "from dsets import KnownsDataset\n",
        "knowns = KnownsDataset(DATA_DIR)"
      ],
      "metadata": {
        "colab": {
          "base_uri": "https://localhost:8080/"
        },
        "id": "WK2Um0jsYHIB",
        "outputId": "70b45c9f-b56e-41cd-d664-8d3343e10123"
      },
      "execution_count": 24,
      "outputs": [
        {
          "output_type": "stream",
          "name": "stdout",
          "text": [
            "baselines     dsets\t   globals.yml\tLICENSE    README.md  scripts\n",
            "CITATION.cff  experiments  hparams\tnotebooks  rome       util\n",
            "data/known_1000.json does not exist. Downloading from https://rome.baulab.info/data/dsets/known_1000.json\n"
          ]
        },
        {
          "output_type": "stream",
          "name": "stderr",
          "text": [
            "100%|██████████| 335k/335k [00:00<00:00, 477kB/s]\n"
          ]
        },
        {
          "output_type": "stream",
          "name": "stdout",
          "text": [
            "Loaded dataset with 1209 elements\n"
          ]
        }
      ]
    },
    {
      "cell_type": "markdown",
      "source": [
        "## Debug mode"
      ],
      "metadata": {
        "id": "AOljrQt3neSY"
      }
    },
    {
      "cell_type": "code",
      "source": [
        "print(\"MODEL_NAME = \", MODEL_NAME, \" NUM_BEAMS = \", NUM_BEAMS, \" CONTEXT = \", CONTEXT)\n",
        "print(\"=======================================\")\n",
        "\n",
        "accuracy = avg_prediction_accuracy(model, tokenizer, knowns, debug=True)\n",
        "print(f\"Avg Accuracy: {accuracy * 100:.2f}%\")\n",
        "print(\"=======================================\")\n",
        "\n",
        "weighted_accuracy = weighted_prediction_accuracy(model, tokenizer, knowns, debug=True)\n",
        "print(f\"Weighted Accuracy: {weighted_accuracy * 100:.2f}%\")\n",
        "print(\"=======================================\")\n",
        "\n",
        "bleu_score = avg_bleu_score(model, tokenizer, knowns, debug=True)\n",
        "print(f\"Bleu score: {bleu_score:.4f}\")\n",
        "print(\"=======================================\")\n",
        "\n",
        "perplexity = avg_perplexity(model, tokenizer, knowns, debug=True)\n",
        "print(f\"Perplexity: {perplexity:.4f}\")\n",
        "print(\"=======================================\")\n",
        "\n",
        "h_perplexity = hf_perplexity(model, tokenizer, knowns, debug=True)\n",
        "print(f\"HF Perplexity: {h_perplexity:.4f}\")\n",
        "print(\"=======================================\")"
      ],
      "metadata": {
        "colab": {
          "base_uri": "https://localhost:8080/",
          "height": 1000,
          "referenced_widgets": [
            "ca9e25fda1ef434484e876ee5105413c",
            "e88ab56500874ad7a7f2440a7f7f35c2",
            "866d53f955bf4677aa731ca20490528b",
            "febcc632684f4d0596e49bf80a03f1dd",
            "c7caa79c88ee439183c7346e533897c1",
            "70fd526ec68b4b94aaa8aae52742b7af",
            "4bc7c9eba7d4420d902dfc828956b175",
            "da317aa9fa6f4753872978ba46546762",
            "8ae6bdf18bb246d8935636d6a6db29b7",
            "8ecd79475a334319af8872eb52c4f5e3",
            "d76a2770f5d64a088c4e67c9902510b0"
          ]
        },
        "id": "TOsGZCALPkt6",
        "outputId": "b525fe20-c79c-47fe-b32d-123044ae9e20"
      },
      "execution_count": 25,
      "outputs": [
        {
          "output_type": "stream",
          "name": "stdout",
          "text": [
            "MODEL_NAME =  gpt2-medium  NUM_BEAMS =  3  CONTEXT =  Answer as a precise fact. \n",
            "=======================================\n",
            "Prompt:  Answer as a precise fact. Vinson Massif is located in the continent of expected prediction:  of actual prediction:   Antarctica\n",
            "Prompt:  Answer as a precise fact. Beats Music is owned by expected prediction:  Apple, actual prediction:   Sony\n",
            "Prompt:  Answer as a precise fact. Audible.com is owned by expected prediction:  Amazon.com, actual prediction:   Google\n",
            "Prompt:  Answer as a precise fact. The Big Bang Theory premieres on expected prediction:  CBS actual prediction:   CBS\n",
            "Prompt:  Answer as a precise fact. MacApp, a product created by expected prediction:  Apple actual prediction:   Apple\n",
            "Avg Accuracy: 40.00%\n",
            "=======================================\n",
            "Prompt:  Answer as a precise fact. Vinson Massif is located in the continent of expected prediction:  of\n",
            "Prompt:  Answer as a precise fact. Beats Music is owned by expected prediction:  Apple,\n",
            "Prompt:  Answer as a precise fact. Audible.com is owned by expected prediction:  Amazon.com,\n",
            "Prompt:  Answer as a precise fact. The Big Bang Theory premieres on expected prediction:  CBS\n",
            "Prompt:  Answer as a precise fact. MacApp, a product created by expected prediction:  Apple\n",
            "Weighted Accuracy: 40.00%\n",
            "=======================================\n",
            "Prompt:  Answer as a precise fact. Vinson Massif is located in the continent of expected prediction:   of Antarctica. It is the largest of the three\n",
            "Reference tokens:  ['Answer', 'as', 'a', 'precise', 'fact.', 'Vinson', 'Massif', 'is', 'located', 'in', 'the', 'continent', 'of', 'of', 'Antarctica.', 'It', 'is', 'the', 'largest', 'of', 'the', 'three']\n",
            "Generated tokens:  ['Answer', 'as', 'a', 'precise', 'fact.', 'Vinson', 'Massif', 'is', 'located', 'in', 'the', 'continent', 'of', 'South', 'America,', 'and', 'is', 'the', 'largest', 'mountain', 'range', 'in', 'North', 'America.']\n",
            "Reference tokens after removing prompt:  ['of', 'Antarctica.', 'It', 'is', 'the', 'largest', 'of', 'the', 'three']\n",
            "Generated tokens after removing prompt:  ['South', 'America,', 'and', 'is', 'the', 'largest', 'mountain', 'range', 'in', 'North', 'America.']\n",
            "BLEU Score for prompt: 'Answer as a precise fact. Vinson Massif is located in the continent of'\n",
            "Prediction: '['of', 'Antarctica.', 'It', 'is', 'the', 'largest', 'of', 'the', 'three']'\n",
            "Generated: '['South', 'America,', 'and', 'is', 'the', 'largest', 'mountain', 'range', 'in', 'North', 'America.']'\n",
            "BLEU score: 0.2335\n",
            "\n",
            "Prompt:  Answer as a precise fact. Beats Music is owned by expected prediction:   Apple, which is also the owner of Beats Electronics\n",
            "Reference tokens:  ['Answer', 'as', 'a', 'precise', 'fact.', 'Beats', 'Music', 'is', 'owned', 'by', 'Apple,', 'which', 'is', 'also', 'the', 'owner', 'of', 'Beats', 'Electronics']\n",
            "Generated tokens:  ['Answer', 'as', 'a', 'precise', 'fact.', 'Beats', 'Music', 'is', 'owned', 'by', 'Universal', 'Music', 'Group,', 'which', 'also', 'owns', 'Beats', 'Electronics,', 'the', 'company', 'that', 'makes', 'Beats', 'headphones.']\n",
            "Reference tokens after removing prompt:  ['Apple,', 'which', 'is', 'also', 'the', 'owner', 'of', 'Beats', 'Electronics']\n",
            "Generated tokens after removing prompt:  ['Universal', 'Music', 'Group,', 'which', 'also', 'owns', 'Beats', 'Electronics,', 'the', 'company', 'that', 'makes', 'Beats', 'headphones.']\n",
            "BLEU Score for prompt: 'Answer as a precise fact. Beats Music is owned by'\n",
            "Prediction: '['Apple,', 'which', 'is', 'also', 'the', 'owner', 'of', 'Beats', 'Electronics']'\n",
            "Generated: '['Universal', 'Music', 'Group,', 'which', 'also', 'owns', 'Beats', 'Electronics,', 'the', 'company', 'that', 'makes', 'Beats', 'headphones.']'\n",
            "BLEU score: 0.0469\n",
            "\n",
            "Prompt:  Answer as a precise fact. Audible.com is owned by expected prediction:   Amazon.com, Inc. or its affiliates.\n",
            "Reference tokens:  ['Answer', 'as', 'a', 'precise', 'fact.', 'Audible.com', 'is', 'owned', 'by', 'Amazon.com,', 'Inc.', 'or', 'its', 'affiliates.']\n",
            "Generated tokens:  ['Answer', 'as', 'a', 'precise', 'fact.', 'Audible.com', 'is', 'owned', 'by', 'the', 'same', 'company', 'that', 'owns', 'the', 'New', 'York', 'Times.']\n",
            "Reference tokens after removing prompt:  ['Amazon.com,', 'Inc.', 'or', 'its', 'affiliates.']\n",
            "Generated tokens after removing prompt:  ['the', 'same', 'company', 'that', 'owns', 'the', 'New', 'York', 'Times.']\n",
            "BLEU Score for prompt: 'Answer as a precise fact. Audible.com is owned by'\n",
            "Prediction: '['Amazon.com,', 'Inc.', 'or', 'its', 'affiliates.']'\n",
            "Generated: '['the', 'same', 'company', 'that', 'owns', 'the', 'New', 'York', 'Times.']'\n",
            "BLEU score: 0.0000\n",
            "\n",
            "Prompt:  Answer as a precise fact. The Big Bang Theory premieres on expected prediction:   CBS on September 22.<|endoftext|>\n",
            "Reference tokens:  ['Answer', 'as', 'a', 'precise', 'fact.', 'The', 'Big', 'Bang', 'Theory', 'premieres', 'on', 'CBS', 'on', 'September', '22.<|endoftext|>']\n",
            "Generated tokens:  ['Answer', 'as', 'a', 'precise', 'fact.', 'The', 'Big', 'Bang', 'Theory', 'premieres', 'on', 'CBS', 'at', '8', 'p.']\n",
            "Reference tokens after removing prompt:  ['CBS', 'on', 'September', '22.<|endoftext|>']\n",
            "Generated tokens after removing prompt:  ['CBS', 'at', '8', 'p.']\n",
            "BLEU Score for prompt: 'Answer as a precise fact. The Big Bang Theory premieres on'\n",
            "Prediction: '['CBS', 'on', 'September', '22.<|endoftext|>']'\n",
            "Generated: '['CBS', 'at', '8', 'p.']'\n",
            "BLEU score: 0.0913\n",
            "\n",
            "Prompt:  Answer as a precise fact. MacApp, a product created by expected prediction:   Apple to help developers create apps for the iPhone and\n",
            "Reference tokens:  ['Answer', 'as', 'a', 'precise', 'fact.', 'MacApp,', 'a', 'product', 'created', 'by', 'Apple', 'to', 'help', 'developers', 'create', 'apps', 'for', 'the', 'iPhone', 'and']\n",
            "Generated tokens:  ['Answer', 'as', 'a', 'precise', 'fact.', 'MacApp,', 'a', 'product', 'created', 'by', 'Apple,', 'allows', 'users', 'to', 'create', 'their', 'own', 'apps', 'and', 'share', 'them', 'with', 'the', 'world.']\n",
            "Reference tokens after removing prompt:  ['Apple', 'to', 'help', 'developers', 'create', 'apps', 'for', 'the', 'iPhone', 'and']\n",
            "Generated tokens after removing prompt:  ['Apple,', 'allows', 'users', 'to', 'create', 'their', 'own', 'apps', 'and', 'share', 'them', 'with', 'the', 'world.']\n",
            "BLEU Score for prompt: 'Answer as a precise fact. MacApp, a product created by'\n",
            "Prediction: '['Apple', 'to', 'help', 'developers', 'create', 'apps', 'for', 'the', 'iPhone', 'and']'\n",
            "Generated: '['Apple,', 'allows', 'users', 'to', 'create', 'their', 'own', 'apps', 'and', 'share', 'them', 'with', 'the', 'world.']'\n",
            "BLEU score: 0.0524\n",
            "\n",
            "Bleu score: 0.0848\n",
            "=======================================\n",
            "Prompt with prediction:  Answer as a precise fact. Vinson Massif is located in the continent of of Antarctica. It is the largest of the three\n",
            "Prompt tokens:  [33706, 355, 257, 7141, 1109, 13, 569, 7899, 5674, 361, 318, 5140, 287, 262, 15549, 286]\n",
            "Labels:  tensor([[ -100,  -100,  -100,  -100,  -100,  -100,  -100,  -100,  -100,  -100,\n",
            "          -100,  -100,  -100,  -100,  -100,  -100,   286, 30185,    13,   632,\n",
            "           318,   262,  4387,   286,   262,  1115]], device='cuda:0')\n",
            "Loss: 2.5790035724639893\n",
            "Perplexity: 13.183995246887207\n",
            "Prompt with prediction:  Answer as a precise fact. Beats Music is owned by Apple, which is also the owner of Beats Electronics\n",
            "Prompt tokens:  [33706, 355, 257, 7141, 1109, 13, 40210, 7849, 318, 6898, 416]\n",
            "Labels:  tensor([[ -100,  -100,  -100,  -100,  -100,  -100,  -100,  -100,  -100,  -100,\n",
            "          -100,  4196,    11,   543,   318,   635,   262,  4870,   286, 40210,\n",
            "         27828]], device='cuda:0')\n",
            "Loss: 1.643398642539978\n",
            "Perplexity: 5.172719955444336\n",
            "Prompt with prediction:  Answer as a precise fact. Audible.com is owned by Amazon.com, Inc. or its affiliates.\n",
            "Prompt tokens:  [33706, 355, 257, 7141, 1109, 13, 7591, 856, 13, 785, 318, 6898, 416]\n",
            "Labels:  tensor([[ -100,  -100,  -100,  -100,  -100,  -100,  -100,  -100,  -100,  -100,\n",
            "          -100,  -100,  -100,  6186,    13,   785,    11,  3457,    13,   393,\n",
            "           663, 29116,    13]], device='cuda:0')\n",
            "Loss: 1.5450307130813599\n",
            "Perplexity: 4.68811559677124\n",
            "Prompt with prediction:  Answer as a precise fact. The Big Bang Theory premieres on CBS on September 22.<|endoftext|>\n",
            "Prompt tokens:  [33706, 355, 257, 7141, 1109, 13, 383, 4403, 9801, 17003, 33050, 411, 319]\n",
            "Labels:  tensor([[ -100,  -100,  -100,  -100,  -100,  -100,  -100,  -100,  -100,  -100,\n",
            "          -100,  -100,  -100, 11133,   319,  2693,  2534,    13, 50256]],\n",
            "       device='cuda:0')\n",
            "Loss: 1.784361481666565\n",
            "Perplexity: 5.955776214599609\n",
            "Prompt with prediction:  Answer as a precise fact. MacApp, a product created by Apple to help developers create apps for the iPhone and\n",
            "Prompt tokens:  [33706, 355, 257, 7141, 1109, 13, 4100, 4677, 11, 257, 1720, 2727, 416]\n",
            "Labels:  tensor([[-100, -100, -100, -100, -100, -100, -100, -100, -100, -100, -100, -100,\n",
            "         -100, 4196,  284, 1037, 6505, 2251, 6725,  329,  262, 7133,  290]],\n",
            "       device='cuda:0')\n",
            "Loss: 1.6441551446914673\n",
            "Perplexity: 5.176634788513184\n",
            "Avg loss: 1.8391899108886718\n",
            "Avg Perplexity: 6.291439533233643\n",
            "Perplexity: 6.2914\n",
            "=======================================\n"
          ]
        },
        {
          "output_type": "display_data",
          "data": {
            "text/plain": [
              "  0%|          | 0/1 [00:00<?, ?it/s]"
            ],
            "application/vnd.jupyter.widget-view+json": {
              "version_major": 2,
              "version_minor": 0,
              "model_id": "ca9e25fda1ef434484e876ee5105413c"
            }
          },
          "metadata": {}
        },
        {
          "output_type": "stream",
          "name": "stdout",
          "text": [
            "HF Perplexity: 46.5262\n",
            "=======================================\n"
          ]
        }
      ]
    },
    {
      "cell_type": "markdown",
      "source": [
        "## Full Set metrics"
      ],
      "metadata": {
        "id": "4eJGWF3dw9LL"
      }
    },
    {
      "cell_type": "code",
      "source": [
        "# Accuracy: Measures the percentage of times the model correctly predicts the next token.\n",
        "print(\"MODEL_NAME = \", MODEL_NAME, \" NUM_BEAMS = \", NUM_BEAMS, \" CONTEXT = \", CONTEXT)\n",
        "\n",
        "accuracy = avg_prediction_accuracy(model, tokenizer, knowns)\n",
        "print(f\"Avg Factual Accuracy: {accuracy * 100:.2f}%\")\n",
        "\n",
        "weighted_accuracy = weighted_prediction_accuracy(model, tokenizer, knowns)\n",
        "print(f\"Weighted Factual Accuracy: {weighted_accuracy * 100:.2f}%\")\n",
        "\n",
        "# BLEU Score: n-gram precision and helps evaluate fluency and overlap between predicted and actual tokens.\n",
        "bleu = avg_bleu_score(model, tokenizer, knowns)\n",
        "print(f\"Average Bleu score: {bleu:.4f}\")\n",
        "\n",
        "# Cross-Entropy Loss: the difference between the true distribution and the predicted distribution of the next token.\n",
        "# Perplexity: exponential of cross entropy loss. Lower is better.\n",
        "perplexity = avg_perplexity(model, tokenizer, knowns)\n",
        "print(f\"Avg Perplexity: {perplexity:.4f}\")\n",
        "\n",
        "h_perplexity = hf_perplexity(model, tokenizer, knowns)\n",
        "print(f\"HF Perplexity: {h_perplexity:.4f}\")\n"
      ],
      "metadata": {
        "colab": {
          "base_uri": "https://localhost:8080/",
          "height": 512
        },
        "id": "rCpetdWGGdr8",
        "outputId": "a6faf3c9-6770-4f7a-cf50-12af460ccf7c"
      },
      "execution_count": 26,
      "outputs": [
        {
          "output_type": "stream",
          "name": "stdout",
          "text": [
            "MODEL_NAME =  gpt2-medium  NUM_BEAMS =  3  CONTEXT =  Answer as a precise fact. \n",
            "Avg Factual Accuracy: 11.66%\n",
            "Weighted Factual Accuracy: 17.33%\n"
          ]
        },
        {
          "output_type": "error",
          "ename": "RuntimeError",
          "evalue": "CUDA error: device-side assert triggered\nCUDA kernel errors might be asynchronously reported at some other API call, so the stacktrace below might be incorrect.\nFor debugging consider passing CUDA_LAUNCH_BLOCKING=1\nCompile with `TORCH_USE_CUDA_DSA` to enable device-side assertions.\n",
          "traceback": [
            "\u001b[0;31m---------------------------------------------------------------------------\u001b[0m",
            "\u001b[0;31mRuntimeError\u001b[0m                              Traceback (most recent call last)",
            "\u001b[0;32m<ipython-input-26-8d4185d4f84d>\u001b[0m in \u001b[0;36m<cell line: 11>\u001b[0;34m()\u001b[0m\n\u001b[1;32m      9\u001b[0m \u001b[0;34m\u001b[0m\u001b[0m\n\u001b[1;32m     10\u001b[0m \u001b[0;31m# BLEU Score: n-gram precision and helps evaluate fluency and overlap between predicted and actual tokens.\u001b[0m\u001b[0;34m\u001b[0m\u001b[0;34m\u001b[0m\u001b[0m\n\u001b[0;32m---> 11\u001b[0;31m \u001b[0mbleu\u001b[0m \u001b[0;34m=\u001b[0m \u001b[0mavg_bleu_score\u001b[0m\u001b[0;34m(\u001b[0m\u001b[0mmodel\u001b[0m\u001b[0;34m,\u001b[0m \u001b[0mtokenizer\u001b[0m\u001b[0;34m,\u001b[0m \u001b[0mknowns\u001b[0m\u001b[0;34m)\u001b[0m\u001b[0;34m\u001b[0m\u001b[0;34m\u001b[0m\u001b[0m\n\u001b[0m\u001b[1;32m     12\u001b[0m \u001b[0mprint\u001b[0m\u001b[0;34m(\u001b[0m\u001b[0;34mf\"Average Bleu score: {bleu:.4f}\"\u001b[0m\u001b[0;34m)\u001b[0m\u001b[0;34m\u001b[0m\u001b[0;34m\u001b[0m\u001b[0m\n\u001b[1;32m     13\u001b[0m \u001b[0;34m\u001b[0m\u001b[0m\n",
            "\u001b[0;32m<ipython-input-20-87a52bca90be>\u001b[0m in \u001b[0;36mavg_bleu_score\u001b[0;34m(model, tokenizer, known_facts, context, debug)\u001b[0m\n\u001b[1;32m     69\u001b[0m         \u001b[0;32mif\u001b[0m \u001b[0mdebug\u001b[0m\u001b[0;34m:\u001b[0m\u001b[0;34m\u001b[0m\u001b[0;34m\u001b[0m\u001b[0m\n\u001b[1;32m     70\u001b[0m           \u001b[0mprint\u001b[0m\u001b[0;34m(\u001b[0m\u001b[0;34m\"Prompt: \"\u001b[0m\u001b[0;34m,\u001b[0m \u001b[0mprompt\u001b[0m\u001b[0;34m,\u001b[0m \u001b[0;34m\"expected prediction: \"\u001b[0m\u001b[0;34m,\u001b[0m \u001b[0mexpected_prediction\u001b[0m\u001b[0;34m)\u001b[0m\u001b[0;34m\u001b[0m\u001b[0;34m\u001b[0m\u001b[0m\n\u001b[0;32m---> 71\u001b[0;31m         \u001b[0mgenerated_text\u001b[0m \u001b[0;34m=\u001b[0m \u001b[0mgenerate_text\u001b[0m\u001b[0;34m(\u001b[0m\u001b[0mmodel\u001b[0m\u001b[0;34m,\u001b[0m \u001b[0mtokenizer\u001b[0m\u001b[0;34m,\u001b[0m \u001b[0mprompt\u001b[0m\u001b[0;34m)\u001b[0m\u001b[0;34m\u001b[0m\u001b[0;34m\u001b[0m\u001b[0m\n\u001b[0m\u001b[1;32m     72\u001b[0m         \u001b[0mreference_tokens\u001b[0m \u001b[0;34m=\u001b[0m \u001b[0mprompt\u001b[0m\u001b[0;34m.\u001b[0m\u001b[0msplit\u001b[0m\u001b[0;34m(\u001b[0m\u001b[0;34m)\u001b[0m \u001b[0;34m+\u001b[0m \u001b[0mexpected_prediction\u001b[0m\u001b[0;34m.\u001b[0m\u001b[0msplit\u001b[0m\u001b[0;34m(\u001b[0m\u001b[0;34m)\u001b[0m \u001b[0;31m# Ground truth sentence as list of tokens\u001b[0m\u001b[0;34m\u001b[0m\u001b[0;34m\u001b[0m\u001b[0m\n\u001b[1;32m     73\u001b[0m         \u001b[0mgenerated_tokens\u001b[0m \u001b[0;34m=\u001b[0m \u001b[0mgenerated_text\u001b[0m\u001b[0;34m.\u001b[0m\u001b[0msplit\u001b[0m\u001b[0;34m(\u001b[0m\u001b[0;34m)\u001b[0m  \u001b[0;31m# Model-generated text as list of tokens\u001b[0m\u001b[0;34m\u001b[0m\u001b[0;34m\u001b[0m\u001b[0m\n",
            "\u001b[0;32m<ipython-input-19-a192d68a425b>\u001b[0m in \u001b[0;36mgenerate_text\u001b[0;34m(model, tokenizer, prompt, max_length, device)\u001b[0m\n\u001b[1;32m     39\u001b[0m     \u001b[0minput_ids\u001b[0m \u001b[0;34m=\u001b[0m \u001b[0mtokenizer\u001b[0m\u001b[0;34m.\u001b[0m\u001b[0mencode\u001b[0m\u001b[0;34m(\u001b[0m\u001b[0mprompt\u001b[0m\u001b[0;34m,\u001b[0m \u001b[0mreturn_tensors\u001b[0m\u001b[0;34m=\u001b[0m\u001b[0;34m'pt'\u001b[0m\u001b[0;34m)\u001b[0m\u001b[0;34m\u001b[0m\u001b[0;34m\u001b[0m\u001b[0m\n\u001b[1;32m     40\u001b[0m \u001b[0;34m\u001b[0m\u001b[0m\n\u001b[0;32m---> 41\u001b[0;31m     outputs = model.generate(input_ids.to(device), \n\u001b[0m\u001b[1;32m     42\u001b[0m                              \u001b[0mmax_length\u001b[0m\u001b[0;34m=\u001b[0m\u001b[0;36m50\u001b[0m\u001b[0;34m,\u001b[0m\u001b[0;34m\u001b[0m\u001b[0;34m\u001b[0m\u001b[0m\n\u001b[1;32m     43\u001b[0m                              \u001b[0mdo_sample\u001b[0m\u001b[0;34m=\u001b[0m\u001b[0;32mTrue\u001b[0m\u001b[0;34m,\u001b[0m\u001b[0;34m\u001b[0m\u001b[0;34m\u001b[0m\u001b[0m\n",
            "\u001b[0;32m/usr/local/lib/python3.10/dist-packages/torch/utils/_contextlib.py\u001b[0m in \u001b[0;36mdecorate_context\u001b[0;34m(*args, **kwargs)\u001b[0m\n\u001b[1;32m    114\u001b[0m     \u001b[0;32mdef\u001b[0m \u001b[0mdecorate_context\u001b[0m\u001b[0;34m(\u001b[0m\u001b[0;34m*\u001b[0m\u001b[0margs\u001b[0m\u001b[0;34m,\u001b[0m \u001b[0;34m**\u001b[0m\u001b[0mkwargs\u001b[0m\u001b[0;34m)\u001b[0m\u001b[0;34m:\u001b[0m\u001b[0;34m\u001b[0m\u001b[0;34m\u001b[0m\u001b[0m\n\u001b[1;32m    115\u001b[0m         \u001b[0;32mwith\u001b[0m \u001b[0mctx_factory\u001b[0m\u001b[0;34m(\u001b[0m\u001b[0;34m)\u001b[0m\u001b[0;34m:\u001b[0m\u001b[0;34m\u001b[0m\u001b[0;34m\u001b[0m\u001b[0m\n\u001b[0;32m--> 116\u001b[0;31m             \u001b[0;32mreturn\u001b[0m \u001b[0mfunc\u001b[0m\u001b[0;34m(\u001b[0m\u001b[0;34m*\u001b[0m\u001b[0margs\u001b[0m\u001b[0;34m,\u001b[0m \u001b[0;34m**\u001b[0m\u001b[0mkwargs\u001b[0m\u001b[0;34m)\u001b[0m\u001b[0;34m\u001b[0m\u001b[0;34m\u001b[0m\u001b[0m\n\u001b[0m\u001b[1;32m    117\u001b[0m \u001b[0;34m\u001b[0m\u001b[0m\n\u001b[1;32m    118\u001b[0m     \u001b[0;32mreturn\u001b[0m \u001b[0mdecorate_context\u001b[0m\u001b[0;34m\u001b[0m\u001b[0;34m\u001b[0m\u001b[0m\n",
            "\u001b[0;32m/usr/local/lib/python3.10/dist-packages/transformers/generation/utils.py\u001b[0m in \u001b[0;36mgenerate\u001b[0;34m(self, inputs, generation_config, logits_processor, stopping_criteria, prefix_allowed_tokens_fn, synced_gpus, assistant_model, streamer, negative_prompt_ids, negative_prompt_attention_mask, **kwargs)\u001b[0m\n\u001b[1;32m   2244\u001b[0m \u001b[0;34m\u001b[0m\u001b[0m\n\u001b[1;32m   2245\u001b[0m             \u001b[0;31m# 13. run beam sample\u001b[0m\u001b[0;34m\u001b[0m\u001b[0;34m\u001b[0m\u001b[0m\n\u001b[0;32m-> 2246\u001b[0;31m             result = self._beam_search(\n\u001b[0m\u001b[1;32m   2247\u001b[0m                 \u001b[0minput_ids\u001b[0m\u001b[0;34m,\u001b[0m\u001b[0;34m\u001b[0m\u001b[0;34m\u001b[0m\u001b[0m\n\u001b[1;32m   2248\u001b[0m                 \u001b[0mbeam_scorer\u001b[0m\u001b[0;34m,\u001b[0m\u001b[0;34m\u001b[0m\u001b[0;34m\u001b[0m\u001b[0m\n",
            "\u001b[0;32m/usr/local/lib/python3.10/dist-packages/transformers/generation/utils.py\u001b[0m in \u001b[0;36m_beam_search\u001b[0;34m(self, input_ids, beam_scorer, logits_processor, stopping_criteria, generation_config, synced_gpus, **model_kwargs)\u001b[0m\n\u001b[1;32m   3521\u001b[0m \u001b[0;34m\u001b[0m\u001b[0m\n\u001b[1;32m   3522\u001b[0m             \u001b[0;31m# stateless\u001b[0m\u001b[0;34m\u001b[0m\u001b[0;34m\u001b[0m\u001b[0m\n\u001b[0;32m-> 3523\u001b[0;31m             beam_outputs = beam_scorer.process(\n\u001b[0m\u001b[1;32m   3524\u001b[0m                 \u001b[0minput_ids\u001b[0m\u001b[0;34m,\u001b[0m\u001b[0;34m\u001b[0m\u001b[0;34m\u001b[0m\u001b[0m\n\u001b[1;32m   3525\u001b[0m                 \u001b[0mnext_token_scores\u001b[0m\u001b[0;34m,\u001b[0m\u001b[0;34m\u001b[0m\u001b[0;34m\u001b[0m\u001b[0m\n",
            "\u001b[0;32m/usr/local/lib/python3.10/dist-packages/transformers/generation/beam_search.py\u001b[0m in \u001b[0;36mprocess\u001b[0;34m(self, input_ids, next_scores, next_tokens, next_indices, pad_token_id, eos_token_id, beam_indices, group_index, decoder_prompt_len)\u001b[0m\n\u001b[1;32m    253\u001b[0m         \u001b[0;32mfor\u001b[0m \u001b[0mbatch_idx\u001b[0m \u001b[0;32min\u001b[0m \u001b[0mrange\u001b[0m\u001b[0;34m(\u001b[0m\u001b[0mbatch_size\u001b[0m\u001b[0;34m)\u001b[0m\u001b[0;34m:\u001b[0m\u001b[0;34m\u001b[0m\u001b[0;34m\u001b[0m\u001b[0m\n\u001b[1;32m    254\u001b[0m             \u001b[0mbatch_group_idx\u001b[0m \u001b[0;34m=\u001b[0m \u001b[0mbatch_idx\u001b[0m \u001b[0;34m*\u001b[0m \u001b[0mself\u001b[0m\u001b[0;34m.\u001b[0m\u001b[0mnum_beam_groups\u001b[0m \u001b[0;34m+\u001b[0m \u001b[0mgroup_index\u001b[0m\u001b[0;34m\u001b[0m\u001b[0;34m\u001b[0m\u001b[0m\n\u001b[0;32m--> 255\u001b[0;31m             \u001b[0;32mif\u001b[0m \u001b[0mself\u001b[0m\u001b[0;34m.\u001b[0m\u001b[0m_done\u001b[0m\u001b[0;34m[\u001b[0m\u001b[0mbatch_group_idx\u001b[0m\u001b[0;34m]\u001b[0m\u001b[0;34m:\u001b[0m\u001b[0;34m\u001b[0m\u001b[0;34m\u001b[0m\u001b[0m\n\u001b[0m\u001b[1;32m    256\u001b[0m                 \u001b[0;32mif\u001b[0m \u001b[0mself\u001b[0m\u001b[0;34m.\u001b[0m\u001b[0mnum_beams\u001b[0m \u001b[0;34m<\u001b[0m \u001b[0mlen\u001b[0m\u001b[0;34m(\u001b[0m\u001b[0mself\u001b[0m\u001b[0;34m.\u001b[0m\u001b[0m_beam_hyps\u001b[0m\u001b[0;34m[\u001b[0m\u001b[0mbatch_group_idx\u001b[0m\u001b[0;34m]\u001b[0m\u001b[0;34m)\u001b[0m\u001b[0;34m:\u001b[0m\u001b[0;34m\u001b[0m\u001b[0;34m\u001b[0m\u001b[0m\n\u001b[1;32m    257\u001b[0m                     \u001b[0;32mraise\u001b[0m \u001b[0mValueError\u001b[0m\u001b[0;34m(\u001b[0m\u001b[0;34mf\"Batch can only be done if at least {self.num_beams} beams have been generated\"\u001b[0m\u001b[0;34m)\u001b[0m\u001b[0;34m\u001b[0m\u001b[0;34m\u001b[0m\u001b[0m\n",
            "\u001b[0;31mRuntimeError\u001b[0m: CUDA error: device-side assert triggered\nCUDA kernel errors might be asynchronously reported at some other API call, so the stacktrace below might be incorrect.\nFor debugging consider passing CUDA_LAUNCH_BLOCKING=1\nCompile with `TORCH_USE_CUDA_DSA` to enable device-side assertions.\n"
          ]
        }
      ]
    },
    {
      "cell_type": "code",
      "source": [
        "NUM_BEAMS = 3\n",
        "# BLEU Score: n-gram precision and helps evaluate fluency and overlap between predicted and actual tokens.\n",
        "bleu = avg_bleu_score(model, tokenizer, knowns)\n",
        "print(f\"Average Bleu score: {bleu:.4f}\")\n"
      ],
      "metadata": {
        "id": "JCIRSVzk4S2Z"
      },
      "execution_count": null,
      "outputs": []
    },
    {
      "cell_type": "code",
      "source": [],
      "metadata": {
        "id": "hcnMeaXdHMz0"
      },
      "execution_count": null,
      "outputs": []
    }
  ]
}